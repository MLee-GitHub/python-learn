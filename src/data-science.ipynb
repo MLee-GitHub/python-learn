{
 "cells": [
  {
   "cell_type": "markdown",
   "metadata": {},
   "source": [
    "# numpy部分\n",
    "[**<官网>**](http://www.numpy.org/)"
   ]
  },
  {
   "cell_type": "code",
   "execution_count": 2,
   "metadata": {
    "scrolled": true
   },
   "outputs": [
    {
     "name": "stdout",
     "output_type": "stream",
     "text": [
      "[ 0  1  2  3  4  5  6  7  8  9 10]\n",
      "[ 0  1  2  3  4  5  6  7  8  9 10]\n"
     ]
    }
   ],
   "source": [
    "import numpy as np\n",
    "print(np.array(range(11)))\n",
    "print(np.arange(11))"
   ]
  },
  {
   "cell_type": "code",
   "execution_count": 91,
   "metadata": {},
   "outputs": [
    {
     "data": {
      "text/plain": [
       "array([0, 2, 3, 4, 1])"
      ]
     },
     "execution_count": 91,
     "metadata": {},
     "output_type": "execute_result"
    }
   ],
   "source": [
    "np.random.choice(5, size=5, replace=False) # will not occur the same element"
   ]
  },
  {
   "cell_type": "code",
   "execution_count": 17,
   "metadata": {},
   "outputs": [
    {
     "name": "stdout",
     "output_type": "stream",
     "text": [
      "[[ 0  1  2  3]\n",
      " [ 4  5  6  7]\n",
      " [ 8  9 10 11]]\n",
      "[[ 0  4  8]\n",
      " [ 1  5  9]\n",
      " [ 2  6 10]\n",
      " [ 3  7 11]]\n",
      "[ 0  1  2  3  4  5  6  7  8  9 10 11]\n",
      "[ 0  1  2  3  4  5  6  7  8  9 10 11]\n",
      "[ 0  1  2  3  4  5  6  7  8  9 10 11]\n",
      "****************************************************************************************************\n",
      "[[ 0  1  2  3]\n",
      " [ 4  5  6  7]\n",
      " [ 8  9 10 11]]\n",
      "[[100   1   2   3]\n",
      " [  4   5   6   7]\n",
      " [  8   9  10  11]]\n",
      "[[ 100 1111    2    3]\n",
      " [   4    5    6    7]\n",
      " [   8    9   10   11]]\n"
     ]
    }
   ],
   "source": [
    "a = np.array(np.arange(12)).reshape((3, -1))\n",
    "print(a)\n",
    "print(a.T)\n",
    "print(a.flatten()) # the copy of a\n",
    "print(a.ravel()) # the view of a\n",
    "print(a.reshape(-1)) # the view of a\n",
    "print(\"*\"*100)\n",
    "a.flatten()[0] = 100\n",
    "print(a)\n",
    "a.ravel()[0] = 10\n",
    "print(a)\n",
    "a.reshape(-1)[1] = 1111\n",
    "print(a)"
   ]
  },
  {
   "cell_type": "code",
   "execution_count": 75,
   "metadata": {},
   "outputs": [
    {
     "name": "stdout",
     "output_type": "stream",
     "text": [
      "[[2 4 9 4]\n",
      " [3 9 9 7]\n",
      " [2 2 2 3]]\n",
      "[3 9 9 7]\n",
      "[2 3 2]\n",
      "[19 28  9]\n",
      "[[ 4  7 10  7]\n",
      " [12 17 15 14]\n",
      " [ 4  6  4 11]]\n",
      "[[ 0  1  8  1]\n",
      " [-6  1  3  0]\n",
      " [ 0 -2  0 -5]]\n",
      "[[ 4 12  9 12]\n",
      " [27 72 54 49]\n",
      " [ 4  8  4 24]]\n",
      "[[ 1.          1.33333333  9.          1.33333333]\n",
      " [ 0.33333333  1.125       1.5         1.        ]\n",
      " [ 1.          0.5         1.          0.375     ]]\n",
      "[[ 37 132  70]\n",
      " [ 63 202 116]\n",
      " [ 21  67  40]]\n",
      "[[ 0.69314718  1.38629436  2.19722458  1.38629436]\n",
      " [ 1.09861229  2.19722458  2.19722458  1.94591015]\n",
      " [ 0.69314718  0.69314718  0.69314718  1.09861229]]\n",
      "[[  7.38905610e+00   5.45981500e+01   8.10308393e+03   5.45981500e+01]\n",
      " [  2.00855369e+01   8.10308393e+03   8.10308393e+03   1.09663316e+03]\n",
      " [  7.38905610e+00   7.38905610e+00   7.38905610e+00   2.00855369e+01]]\n",
      "[[ 1.41421356  2.          3.          2.        ]\n",
      " [ 1.73205081  3.          3.          2.64575131]\n",
      " [ 1.41421356  1.41421356  1.41421356  1.73205081]]\n",
      "[[ 4 16 81 16]\n",
      " [ 9 81 81 49]\n",
      " [ 4  4  4  9]]\n",
      "[[ 4 16 81 16]\n",
      " [ 9 81 81 49]\n",
      " [ 4  4  4  9]]\n",
      "[[ 0.90929743 -0.7568025   0.41211849 -0.7568025 ]\n",
      " [ 0.14112001  0.41211849  0.41211849  0.6569866 ]\n",
      " [ 0.90929743  0.90929743  0.90929743  0.14112001]]\n"
     ]
    }
   ],
   "source": [
    "a = np.random.randint(1, 10, size=(3, 4))\n",
    "b = np.random.randint(1, 10, size=(3, 4))\n",
    "print(a)\n",
    "print(np.max(a, axis=0))\n",
    "print(np.min(a, axis=1))\n",
    "print(np.sum(a, axis=1))\n",
    "np.array([[1, 2]]).T\n",
    "print(a+b)\n",
    "print(a-b)\n",
    "print(a*b)\n",
    "print(a/b)\n",
    "print(np.dot(a, b.T))\n",
    "print(np.log(a))\n",
    "print(np.exp(a))\n",
    "print(np.sqrt(a))\n",
    "print(np.square(a))\n",
    "print(a**2)\n",
    "print(np.sin(a))"
   ]
  },
  {
   "cell_type": "code",
   "execution_count": 76,
   "metadata": {
    "scrolled": false
   },
   "outputs": [
    {
     "name": "stdout",
     "output_type": "stream",
     "text": [
      "[[0 2 5 6]\n",
      " [8 3 3 6]\n",
      " [5 7 7 2]]\n",
      "[[4 2 4]\n",
      " [5 7 3]\n",
      " [4 3 2]\n",
      " [7 4 6]]\n",
      "[[0 2 5 6]\n",
      " [8 3 3 6]\n",
      " [5 7 7 2]\n",
      " [4 5 4 7]\n",
      " [2 7 3 4]\n",
      " [4 3 2 6]]\n",
      "[[0 2 5 6 4 5 4 7]\n",
      " [8 3 3 6 2 7 3 4]\n",
      " [5 7 7 2 4 3 2 6]]\n",
      "[[[0 2 5 6]\n",
      "  [8 3 3 6]\n",
      "  [5 7 7 2]]\n",
      "\n",
      " [[4 5 4 7]\n",
      "  [2 7 3 4]\n",
      "  [4 3 2 6]]]\n",
      "[[[0 2 5 6]\n",
      "  [4 5 4 7]]\n",
      "\n",
      " [[8 3 3 6]\n",
      "  [2 7 3 4]]\n",
      "\n",
      " [[5 7 7 2]\n",
      "  [4 3 2 6]]]\n",
      "[array([ 0.,  1.,  2.,  3.]), array([ 4.,  5.,  6.,  7.]), array([  8.,   9.,  10.,  11.])]\n",
      "[array([[0, 2, 5, 6]]), array([[8, 3, 3, 6]]), array([[5, 7, 7, 2]])]\n",
      "[[0 2 5 6]\n",
      " [8 3 3 6]\n",
      " [5 7 7 2]]\n"
     ]
    }
   ],
   "source": [
    "np1 = np.array(np.random.randint(10, size=(3, 4)))\n",
    "np2 = np.array(np.random.randint(2, 8, size=(4, 3)))\n",
    "print(np1)\n",
    "print(np2)\n",
    "# print(np.concatenate((np1, np2), axis=0)) # all the input array dimensions except for the concatenation axis must match exactly\n",
    "print(np.concatenate((np1, np2.T), axis=0))\n",
    "print(np.concatenate((np1, np2.T), axis=1))\n",
    "print(np.stack((np1, np2.T), axis=0))\n",
    "print(np.stack((np1, np2.T), axis=1))\n",
    "print(np.split(np.arange(12.0), 3))\n",
    "print(np.split(np1, (1, 2)))\n",
    "print(np.copy(np1))"
   ]
  },
  {
   "cell_type": "code",
   "execution_count": 97,
   "metadata": {
    "scrolled": false
   },
   "outputs": [
    {
     "name": "stdout",
     "output_type": "stream",
     "text": [
      "[[6 2 8]\n",
      " [3 5 8]\n",
      " [3 4 9]]\n",
      "[[6 3 3]\n",
      " [2 5 4]\n",
      " [8 8 9]]\n",
      "[[6 3 3]\n",
      " [2 5 4]\n",
      " [8 8 9]]\n",
      "[[ 0.27083333  0.29166667 -0.5       ]\n",
      " [-0.0625      0.625      -0.5       ]\n",
      " [-0.0625     -0.375       0.5       ]]\n",
      "48.0\n",
      "(array([ 16.,   3.,   1.]), array([[-0.57735027, -0.92057462, -0.60131682],\n",
      "       [-0.57735027,  0.27617239, -0.60131682],\n",
      "       [-0.57735027,  0.27617239,  0.52615222]]))\n",
      "[[ 1.]\n",
      " [ 6.]]\n",
      "[ 10.+0.j  -2.+2.j  -2.+0.j  -2.-2.j]\n",
      "[[ 1.          0.97048429]\n",
      " [ 0.97048429  1.        ]]\n",
      "   5     4     3     2\n",
      "2 x + 3 x + 4 x + 1 x + 9\n"
     ]
    }
   ],
   "source": [
    "import numpy.linalg as la\n",
    "import numpy.fft as fft\n",
    "\n",
    "np1 = np.array(np.random.randint(1, 10, size=(3, 3)))\n",
    "print(np1)\n",
    "print(np1.T)\n",
    "print(np1.transpose())\n",
    "print(np.linalg.inv(np1)) # import numpy.linalg as la\n",
    "print(la.det(np1))\n",
    "print(la.eig(np1))\n",
    "# 2*x1+3*x2=20\n",
    "# 7*x1-x2=1\n",
    "A = [[2, 3],\n",
    "   [7, -1]]\n",
    "A = np.array(A)\n",
    "b = np.array([[20., 1.]]).T\n",
    "print(la.solve(A, b))\n",
    "\n",
    "print(fft.fft(np.array([1, 2, 3, 4])))\n",
    "\n",
    "print(np.corrcoef([1, 2, 3, 4], [2, 2.3, 3.5, 3.9]))\n",
    "print(np.poly1d([2, 3, 4, 1, 0, 9]))"
   ]
  },
  {
   "cell_type": "code",
   "execution_count": 98,
   "metadata": {
    "scrolled": false
   },
   "outputs": [
    {
     "name": "stdout",
     "output_type": "stream",
     "text": [
      "[[[8 5 6 1]\n",
      "  [5 8 3 3]\n",
      "  [5 9 7 1]]\n",
      "\n",
      " [[0 1 7 5]\n",
      "  [5 1 3 1]\n",
      "  [3 1 4 9]]]\n",
      "[[ 6.          7.33333333  5.33333333  1.66666667]\n",
      " [ 2.66666667  1.          4.66666667  5.        ]]\n",
      "[[1, 2, 3], [4, 5, 6]]\n",
      "[ 2.5  3.5  4.5]\n",
      "[ 2.  5.]\n",
      "3.5\n"
     ]
    }
   ],
   "source": [
    "l = [[1, 2, 3],\n",
    "     [4, 5, 6]]\n",
    "s = np.random.randint(10, size=(2, 3, 4))\n",
    "print(s)\n",
    "print(np.mean(s, axis=1))\n",
    "print(l)\n",
    "print(np.mean(l, axis=(0, )))\n",
    "print(np.mean(l, axis=(1, )))\n",
    "print(np.mean(l, axis=(0, 1)))"
   ]
  },
  {
   "cell_type": "code",
   "execution_count": 18,
   "metadata": {},
   "outputs": [
    {
     "data": {
      "text/plain": [
       "0.24031610107658774"
      ]
     },
     "execution_count": 18,
     "metadata": {},
     "output_type": "execute_result"
    }
   ],
   "source": [
    "np.random.rand() # from a uniform distribution over ``[0, 1)``"
   ]
  },
  {
   "cell_type": "code",
   "execution_count": 19,
   "metadata": {
    "scrolled": true
   },
   "outputs": [
    {
     "data": {
      "text/plain": [
       "array([[[ 0.73057653,  0.16972901,  0.2259566 ,  0.74183862],\n",
       "        [ 0.61881055,  0.09789276,  0.01331219,  0.91901483],\n",
       "        [ 0.61557876,  0.20074019,  0.79963845,  0.36511571]],\n",
       "\n",
       "       [[ 0.62269464,  0.73337344,  0.49933717,  0.88713059],\n",
       "        [ 0.70106722,  0.7762274 ,  0.23749141,  0.70090311],\n",
       "        [ 0.68621047,  0.13499059,  0.67180458,  0.4474439 ]]])"
      ]
     },
     "execution_count": 19,
     "metadata": {},
     "output_type": "execute_result"
    }
   ],
   "source": [
    "np.random.rand(2, 3, 4)"
   ]
  },
  {
   "cell_type": "code",
   "execution_count": null,
   "metadata": {
    "collapsed": true
   },
   "outputs": [],
   "source": [
    "np.random.randint(10, size=20) # from the \"discrete uniform\" distribution of the specified dtype in the \"half-open\" interval [`low`, `high`). "
   ]
  },
  {
   "cell_type": "code",
   "execution_count": 72,
   "metadata": {
    "scrolled": true
   },
   "outputs": [
    {
     "data": {
      "text/plain": [
       "array([[3, 3, 4, 3],\n",
       "       [4, 3, 2, 1]])"
      ]
     },
     "execution_count": 72,
     "metadata": {},
     "output_type": "execute_result"
    }
   ],
   "source": [
    "np.random.randint(1, high=5, size=(2, 4))"
   ]
  },
  {
   "cell_type": "code",
   "execution_count": 23,
   "metadata": {},
   "outputs": [
    {
     "data": {
      "text/plain": [
       "array([[ 0.98123181,  2.07261728, -0.65585142,  0.31692295],\n",
       "       [-0.3197947 ,  0.01092566,  0.63048351, -1.12665937]])"
      ]
     },
     "execution_count": 23,
     "metadata": {},
     "output_type": "execute_result"
    }
   ],
   "source": [
    "np.random.randn(2, 4) # from the standard normal distribution"
   ]
  },
  {
   "cell_type": "code",
   "execution_count": 42,
   "metadata": {},
   "outputs": [
    {
     "name": "stdout",
     "output_type": "stream",
     "text": [
      "[[  1.53908004e+00   1.22961552e+00   5.15276474e+00  -6.82308603e-04]\n",
      " [  9.01069200e-01   6.10568423e+00   5.02086761e+00   3.23106593e+00]]\n",
      "False\n"
     ]
    },
    {
     "data": {
      "text/plain": [
       "False"
      ]
     },
     "execution_count": 42,
     "metadata": {},
     "output_type": "execute_result"
    }
   ],
   "source": [
    "mu, sigma = 2, 3  # mean and standard deviation\n",
    "sigma = 3\n",
    "s = sigma * np.random.randn(2, 4) + mu  # from the normal distribution(mu, sigma^2)\n",
    "print(s)\n",
    "print(abs(mu - np.mean(s)) < 0.1)\n",
    "abs(sigma - np.std(s, ddof=1)) < 0.1"
   ]
  },
  {
   "cell_type": "code",
   "execution_count": 65,
   "metadata": {},
   "outputs": [
    {
     "name": "stdout",
     "output_type": "stream",
     "text": [
      "[[ 4.12506862  0.68503746 -0.70425382 -1.15838794]\n",
      " [-2.75661678  2.39919752  2.53370675  3.88618719]]\n",
      "False\n",
      "False\n"
     ]
    },
    {
     "data": {
      "text/plain": [
       "3.5"
      ]
     },
     "execution_count": 65,
     "metadata": {},
     "output_type": "execute_result"
    }
   ],
   "source": [
    "mu, sigma = 2, 3\n",
    "s = np.random.normal(mu, sigma, size=(2, 4))\n",
    "print(s)\n",
    "print(abs(mu - np.mean(s)) < 0.01)\n",
    "print(abs(sigma - np.std(s)) < 0.01)\n",
    "np.mean([[1, 2, 3],\n",
    "         [4, 5, 6]])"
   ]
  },
  {
   "cell_type": "code",
   "execution_count": 46,
   "metadata": {},
   "outputs": [
    {
     "data": {
      "text/plain": [
       "array([[ 1.+0.j,  1.+0.j,  1.+0.j],\n",
       "       [ 1.+0.j,  1.+0.j,  1.+0.j]])"
      ]
     },
     "execution_count": 46,
     "metadata": {},
     "output_type": "execute_result"
    }
   ],
   "source": [
    "np.ones((2, 3), dtype=np.complex)"
   ]
  },
  {
   "cell_type": "code",
   "execution_count": 48,
   "metadata": {},
   "outputs": [
    {
     "data": {
      "text/plain": [
       "array([[ 1.,  1.,  1.],\n",
       "       [ 1.,  1.,  1.]])"
      ]
     },
     "execution_count": 48,
     "metadata": {},
     "output_type": "execute_result"
    }
   ],
   "source": [
    "np.ones_like(np.random.rand(2, 3)) # Return an array of ones with the same shape and type as a given array --> a"
   ]
  },
  {
   "cell_type": "code",
   "execution_count": 49,
   "metadata": {},
   "outputs": [
    {
     "data": {
      "text/plain": [
       "array([[ 0.,  0.,  0.,  0.],\n",
       "       [ 0.,  0.,  0.,  0.],\n",
       "       [ 0.,  0.,  0.,  0.]])"
      ]
     },
     "execution_count": 49,
     "metadata": {},
     "output_type": "execute_result"
    }
   ],
   "source": [
    "np.zeros((3, 4))"
   ]
  },
  {
   "cell_type": "code",
   "execution_count": 57,
   "metadata": {},
   "outputs": [
    {
     "name": "stdout",
     "output_type": "stream",
     "text": [
      "[[ 0.  1.  0.  0.  0.  0.  0.  0.  0.  0.]\n",
      " [ 0.  0.  1.  0.  0.  0.  0.  0.  0.  0.]\n",
      " [ 0.  0.  0.  1.  0.  0.  0.  0.  0.  0.]\n",
      " [ 0.  0.  0.  0.  1.  0.  0.  0.  0.  0.]\n",
      " [ 0.  0.  0.  0.  0.  1.  0.  0.  0.  0.]\n",
      " [ 0.  0.  0.  0.  0.  0.  1.  0.  0.  0.]\n",
      " [ 0.  0.  0.  0.  0.  0.  0.  1.  0.  0.]\n",
      " [ 0.  0.  0.  0.  0.  0.  0.  0.  1.  0.]\n",
      " [ 0.  0.  0.  0.  0.  0.  0.  0.  0.  1.]\n",
      " [ 0.  0.  0.  0.  0.  0.  0.  0.  0.  0.]]\n",
      "************************************************************\n",
      "[[ 1.  0.  0.]\n",
      " [ 0.  1.  0.]]\n"
     ]
    },
    {
     "data": {
      "text/plain": [
       "array([[ 0.,  0.,  0.,  0.,  0.,  0.,  0.,  0.,  0.,  0.],\n",
       "       [ 0.,  0.,  0.,  0.,  0.,  0.,  0.,  0.,  0.,  0.],\n",
       "       [ 1.,  0.,  0.,  0.,  0.,  0.,  0.,  0.,  0.,  0.],\n",
       "       [ 0.,  1.,  0.,  0.,  0.,  0.,  0.,  0.,  0.,  0.],\n",
       "       [ 0.,  0.,  1.,  0.,  0.,  0.,  0.,  0.,  0.,  0.],\n",
       "       [ 0.,  0.,  0.,  1.,  0.,  0.,  0.,  0.,  0.,  0.],\n",
       "       [ 0.,  0.,  0.,  0.,  1.,  0.,  0.,  0.,  0.,  0.],\n",
       "       [ 0.,  0.,  0.,  0.,  0.,  1.,  0.,  0.,  0.,  0.],\n",
       "       [ 0.,  0.,  0.,  0.,  0.,  0.,  1.,  0.,  0.,  0.],\n",
       "       [ 0.,  0.,  0.,  0.,  0.,  0.,  0.,  1.,  0.,  0.]])"
      ]
     },
     "execution_count": 57,
     "metadata": {},
     "output_type": "execute_result"
    }
   ],
   "source": [
    "print(np.eye(10, k=1))\n",
    "print(\"*\"*60)\n",
    "print(np.eye(2, 3, k=0))\n",
    "np.eye(10, k=-2)"
   ]
  },
  {
   "cell_type": "markdown",
   "metadata": {},
   "source": [
    "# matplotlib部分\n",
    "[**<官网>**](http://matplotlib.org/)"
   ]
  },
  {
   "cell_type": "code",
   "execution_count": 240,
   "metadata": {},
   "outputs": [
    {
     "name": "stdout",
     "output_type": "stream",
     "text": [
      "Help on function nquad in module scipy.integrate.quadpack:\n",
      "\n",
      "nquad(func, ranges, args=None, opts=None, full_output=False)\n",
      "    Integration over multiple variables.\n",
      "    \n",
      "    Wraps `quad` to enable integration over multiple variables.\n",
      "    Various options allow improved integration of discontinuous functions, as\n",
      "    well as the use of weighted integration, and generally finer control of the\n",
      "    integration process.\n",
      "    \n",
      "    Parameters\n",
      "    ----------\n",
      "    func : {callable, scipy.LowLevelCallable}\n",
      "        The function to be integrated. Has arguments of ``x0, ... xn``,\n",
      "        ``t0, tm``, where integration is carried out over ``x0, ... xn``, which\n",
      "        must be floats.  Function signature should be\n",
      "        ``func(x0, x1, ..., xn, t0, t1, ..., tm)``.  Integration is carried out\n",
      "        in order.  That is, integration over ``x0`` is the innermost integral,\n",
      "        and ``xn`` is the outermost.\n",
      "    \n",
      "        If the user desires improved integration performance, then `f` may\n",
      "        be a `scipy.LowLevelCallable` with one of the signatures::\n",
      "    \n",
      "            double func(int n, double *xx)\n",
      "            double func(int n, double *xx, void *user_data)\n",
      "    \n",
      "        where ``n`` is the number of extra parameters and args is an array\n",
      "        of doubles of the additional parameters, the ``xx`` array contains the \n",
      "        coordinates. The ``user_data`` is the data contained in the\n",
      "        `scipy.LowLevelCallable`.\n",
      "    ranges : iterable object\n",
      "        Each element of ranges may be either a sequence  of 2 numbers, or else\n",
      "        a callable that returns such a sequence.  ``ranges[0]`` corresponds to\n",
      "        integration over x0, and so on.  If an element of ranges is a callable,\n",
      "        then it will be called with all of the integration arguments available,\n",
      "        as well as any parametric arguments. e.g. if \n",
      "        ``func = f(x0, x1, x2, t0, t1)``, then ``ranges[0]`` may be defined as\n",
      "        either ``(a, b)`` or else as ``(a, b) = range0(x1, x2, t0, t1)``.\n",
      "    args : iterable object, optional\n",
      "        Additional arguments ``t0, ..., tn``, required by `func`, `ranges`, and\n",
      "        ``opts``.\n",
      "    opts : iterable object or dict, optional\n",
      "        Options to be passed to `quad`.  May be empty, a dict, or\n",
      "        a sequence of dicts or functions that return a dict.  If empty, the\n",
      "        default options from scipy.integrate.quad are used.  If a dict, the same\n",
      "        options are used for all levels of integraion.  If a sequence, then each\n",
      "        element of the sequence corresponds to a particular integration. e.g.\n",
      "        opts[0] corresponds to integration over x0, and so on. If a callable, \n",
      "        the signature must be the same as for ``ranges``. The available\n",
      "        options together with their default values are:\n",
      "    \n",
      "          - epsabs = 1.49e-08\n",
      "          - epsrel = 1.49e-08\n",
      "          - limit  = 50\n",
      "          - points = None\n",
      "          - weight = None\n",
      "          - wvar   = None\n",
      "          - wopts  = None\n",
      "    \n",
      "        For more information on these options, see `quad` and `quad_explain`.\n",
      "    \n",
      "    full_output : bool, optional\n",
      "        Partial implementation of ``full_output`` from scipy.integrate.quad. \n",
      "        The number of integrand function evaluations ``neval`` can be obtained \n",
      "        by setting ``full_output=True`` when calling nquad.\n",
      "    \n",
      "    Returns\n",
      "    -------\n",
      "    result : float\n",
      "        The result of the integration.\n",
      "    abserr : float\n",
      "        The maximum of the estimates of the absolute error in the various\n",
      "        integration results.\n",
      "    out_dict : dict, optional\n",
      "        A dict containing additional information on the integration. \n",
      "    \n",
      "    See Also\n",
      "    --------\n",
      "    quad : 1-dimensional numerical integration\n",
      "    dblquad, tplquad : double and triple integrals\n",
      "    fixed_quad : fixed-order Gaussian quadrature\n",
      "    quadrature : adaptive Gaussian quadrature\n",
      "    \n",
      "    Examples\n",
      "    --------\n",
      "    >>> from scipy import integrate\n",
      "    >>> func = lambda x0,x1,x2,x3 : x0**2 + x1*x2 - x3**3 + np.sin(x0) + (\n",
      "    ...                                 1 if (x0-.2*x3-.5-.25*x1>0) else 0)\n",
      "    >>> points = [[lambda x1,x2,x3 : 0.2*x3 + 0.5 + 0.25*x1], [], [], []]\n",
      "    >>> def opts0(*args, **kwargs):\n",
      "    ...     return {'points':[0.2*args[2] + 0.5 + 0.25*args[0]]}\n",
      "    >>> integrate.nquad(func, [[0,1], [-1,1], [.13,.8], [-.15,1]],\n",
      "    ...                 opts=[opts0,{},{},{}], full_output=True)\n",
      "    (1.5267454070738633, 2.9437360001402324e-14, {'neval': 388962})\n",
      "    \n",
      "    >>> scale = .1\n",
      "    >>> def func2(x0, x1, x2, x3, t0, t1):\n",
      "    ...     return x0*x1*x3**2 + np.sin(x2) + 1 + (1 if x0+t1*x1-t0>0 else 0)\n",
      "    >>> def lim0(x1, x2, x3, t0, t1):\n",
      "    ...     return [scale * (x1**2 + x2 + np.cos(x3)*t0*t1 + 1) - 1,\n",
      "    ...             scale * (x1**2 + x2 + np.cos(x3)*t0*t1 + 1) + 1]\n",
      "    >>> def lim1(x2, x3, t0, t1):\n",
      "    ...     return [scale * (t0*x2 + t1*x3) - 1,\n",
      "    ...             scale * (t0*x2 + t1*x3) + 1]\n",
      "    >>> def lim2(x3, t0, t1):\n",
      "    ...     return [scale * (x3 + t0**2*t1**3) - 1,\n",
      "    ...             scale * (x3 + t0**2*t1**3) + 1]\n",
      "    >>> def lim3(t0, t1):\n",
      "    ...     return [scale * (t0+t1) - 1, scale * (t0+t1) + 1]\n",
      "    >>> def opts0(x1, x2, x3, t0, t1):\n",
      "    ...     return {'points' : [t0 - t1*x1]}\n",
      "    >>> def opts1(x2, x3, t0, t1):\n",
      "    ...     return {}\n",
      "    >>> def opts2(x3, t0, t1):\n",
      "    ...     return {}\n",
      "    >>> def opts3(t0, t1):\n",
      "    ...     return {}\n",
      "    >>> integrate.nquad(func2, [lim0, lim1, lim2, lim3], args=(0,0),\n",
      "    ...                 opts=[opts0, opts1, opts2, opts3])\n",
      "    (25.066666666666666, 2.7829590483937256e-13)\n",
      "\n"
     ]
    }
   ],
   "source": [
    "import matplotlib\n",
    "import scipy.integrate as gra\n",
    "\n",
    "help(gra.nquad)"
   ]
  },
  {
   "cell_type": "code",
   "execution_count": 236,
   "metadata": {
    "scrolled": true
   },
   "outputs": [
    {
     "data": {
      "image/png": "[encoded data removed]",
      "text/plain": [
       "<matplotlib.figure.Figure at 0x303b850>"
      ]
     },
     "metadata": {},
     "output_type": "display_data"
    }
   ],
   "source": [
    "import matplotlib.pyplot  as plt\n",
    "import numpy as np\n",
    "\n",
    "year = np.linspace(2000, 2020, 8)\n",
    "pop = np.array([1.23, 1.45, 1.78, 2.01, 2.56, 2.89, 3.12, 3.34])\n",
    "plt.title(\"World Development Project\")\n",
    "plt.xlabel(\"Year\")\n",
    "plt.ylabel(\"Population\")\n",
    "plt.scatter(year, pop)\n",
    "plt.plot(year, pop)\n",
    "\n",
    "plt.show()"
   ]
  },
  {
   "cell_type": "code",
   "execution_count": 229,
   "metadata": {},
   "outputs": [
    {
     "data": {
      "image/png": "[encoded data removed]",
      "text/plain": [
       "<matplotlib.figure.Figure at 0x7bc65d0>"
      ]
     },
     "metadata": {},
     "output_type": "display_data"
    }
   ],
   "source": [
    "import matplotlib.pyplot as plt\n",
    "import numpy as np\n",
    "\n",
    "x = np.linspace(-np.pi, np.pi, 32, endpoint=True)\n",
    "s, c = np.sin(x), np.cos(x)\n",
    "plt.figure(1)\n",
    "plt.title(\"Sin & Cos\")\n",
    "plt.plot(x, s, color=\"red\", linestyle=\"-.\", linewidth=2, label=\"Sin\", marker=\"v\", alpha=0.6)\n",
    "plt.plot(x, c, label=\"Cos\")\n",
    "ax = plt.gca()\n",
    "ax.spines[\"top\"].set_color(\"None\")\n",
    "ax.spines[\"right\"].set_color('None')\n",
    "ax.spines[\"bottom\"].set_position((\"data\", 0))\n",
    "ax.spines[\"left\"].set_position((\"data\", 0))\n",
    "ax.xaxis.set_ticks_position(\"bottom\")\n",
    "ax.yaxis.set_ticks_position(\"left\")\n",
    "plt.xticks([-np.pi, -np.pi/2, 0, np.pi/2, np.pi], [r\"$-\\pi$\", r\"$-\\pi/2$\", r\"$0$\", r\"$\\pi/2$\", r\"$\\pi$\"])\n",
    "#print(ax)\n",
    "#for i in ax.get_yticks():\n",
    "#    print(i, end=\" \")\n",
    "#print(ax.get_xticks())\n",
    "for label in ax.get_xticklabels() + ax.get_yticklabels():\n",
    "    label.set_fontsize(12)\n",
    "    label.set_backgroundcolor(\"white\")\n",
    "    label.set_color(\"b\")\n",
    "plt.legend(loc=\"best\")    \n",
    "plt.grid()\n",
    "plt.plot([1, 1], [0, np.cos(1)], color=\"y\", linewidth=1, linestyle='--')\n",
    "plt.annotate(\"cos(1)\", xy=(1, np.cos(1)) )\n",
    "#plt.axis((-np.pi/2, np.pi/2, -1., 1.))\n",
    "plt.show()"
   ]
  },
  {
   "cell_type": "code",
   "execution_count": 114,
   "metadata": {
    "scrolled": true
   },
   "outputs": [
    {
     "name": "stdout",
     "output_type": "stream",
     "text": [
      "1\n"
     ]
    },
    {
     "data": {
      "text/plain": [
       "<matplotlib.figure.Figure at 0x7c638d0>"
      ]
     },
     "metadata": {},
     "output_type": "display_data"
    }
   ],
   "source": [
    "f = plt.figure(1)\n",
    "print(f.number)\n",
    "plt.show(f)"
   ]
  },
  {
   "cell_type": "markdown",
   "metadata": {},
   "source": [
    "# scipy部分\n",
    "[**<官网>**](https://www.scipy.org/)"
   ]
  },
  {
   "cell_type": "code",
   "execution_count": 245,
   "metadata": {},
   "outputs": [
    {
     "name": "stdout",
     "output_type": "stream",
     "text": [
      "(1.0000000000000002, 5.842607038578007e-11)\n",
      "(27.5, 4.0557084398481957e-13)\n",
      "(27.5, 4.0557084398481957e-13)\n"
     ]
    }
   ],
   "source": [
    "import scipy.integrate as gra\n",
    "\n",
    "\n",
    "\n",
    "print(gra.quad(lambda x: np.exp(-x), 0, np.inf))\n",
    "print(gra.dblquad(lambda x, y: x + y, 0, 5, lambda x: x, lambda x: 4))\n",
    "\n",
    "def f(x, y):\n",
    "    return x + y\n",
    "\n",
    "def boundary_x():\n",
    "    return (0, 5)\n",
    "\n",
    "def boundary_y(x):\n",
    "    return (x, 4)\n",
    "\n",
    "print(gra.nquad(f, (boundary_y, boundary_x)))"
   ]
  },
  {
   "cell_type": "code",
   "execution_count": 16,
   "metadata": {},
   "outputs": [
    {
     "name": "stdout",
     "output_type": "stream",
     "text": [
      "[[8 8]\n",
      " [4 5]]\n",
      "8.0\n",
      "[[ 0.625 -1.   ]\n",
      " [-0.5    1.   ]]\n",
      "[-5.125  4.5  ]\n",
      "(array([ 12.35234996+0.j,   0.64765004+0.j]), array([[ 0.87841602, -0.73628173],\n",
      "       [ 0.47789674,  0.67667512]]))\n",
      "LU>  (array([[ 1.,  0.],\n",
      "       [ 0.,  1.]]), array([[ 1. ,  0. ],\n",
      "       [ 0.5,  1. ]]), array([[ 8.,  8.],\n",
      "       [ 0.,  1.]]))\n",
      "QR>  (array([[-0.89442719, -0.4472136 ],\n",
      "       [-0.4472136 ,  0.89442719]]), array([[-8.94427191, -9.39148551],\n",
      "       [ 0.        ,  0.89442719]]))\n",
      "SVD>  (array([[-0.87095225, -0.49136766],\n",
      "       [-0.49136766,  0.87095225]]), array([ 12.98539369,   0.61607682]), array([[-0.6879336 , -0.72577363],\n",
      "       [-0.72577363,  0.6879336 ]]))\n",
      "Schur> (array([[ 12.35234996,   4.        ],\n",
      "       [  0.        ,   0.64765004]]), array([[ 0.87841602, -0.47789674],\n",
      "       [ 0.47789674,  0.87841602]]))\n"
     ]
    }
   ],
   "source": [
    "import scipy.linalg as lg\n",
    "import numpy as np\n",
    "\n",
    "np_a = np.array(np.random.randint(1, 10, size=(2, 2)))\n",
    "print(np_a)\n",
    "print(lg.det(np_a))\n",
    "print(lg.inv(np_a))\n",
    "b = np.random.randint(-10, 10, size=2).reshape(2)\n",
    "print(lg.solve(np_a, b))\n",
    "print(lg.eig(np_a))\n",
    "print(\"LU> \", lg.lu(np_a))\n",
    "print(\"QR> \", lg.qr(np_a))\n",
    "print(\"SVD> \", lg.svd(np_a))\n",
    "print(\"Schur>\", lg.schur(np_a))"
   ]
  },
  {
   "cell_type": "markdown",
   "metadata": {},
   "source": [
    "# pandas部分\n",
    "[**<官网>**](http://pandas.pydata.org/)"
   ]
  },
  {
   "cell_type": "code",
   "execution_count": 39,
   "metadata": {},
   "outputs": [
    {
     "name": "stdout",
     "output_type": "stream",
     "text": [
      "Help on method sort_index in module pandas.core.frame:\n",
      "\n",
      "sort_index(axis=0, level=None, ascending=True, inplace=False, kind='quicksort', na_position='last', sort_remaining=True, by=None) method of pandas.core.frame.DataFrame instance\n",
      "    Sort object by labels (along an axis)\n",
      "    \n",
      "    Parameters\n",
      "    ----------\n",
      "    axis : index, columns to direct sorting\n",
      "    level : int or level name or list of ints or list of level names\n",
      "        if not None, sort on values in specified index level(s)\n",
      "    ascending : boolean, default True\n",
      "        Sort ascending vs. descending\n",
      "    inplace : bool, default False\n",
      "        if True, perform operation in-place\n",
      "    kind : {'quicksort', 'mergesort', 'heapsort'}, default 'quicksort'\n",
      "         Choice of sorting algorithm. See also ndarray.np.sort for more\n",
      "         information.  `mergesort` is the only stable algorithm. For\n",
      "         DataFrames, this option is only applied when sorting on a single\n",
      "         column or label.\n",
      "    na_position : {'first', 'last'}, default 'last'\n",
      "         `first` puts NaNs at the beginning, `last` puts NaNs at the end.\n",
      "         Not implemented for MultiIndex.\n",
      "    sort_remaining : bool, default True\n",
      "        if true and sorting by level and index is multilevel, sort by other\n",
      "        levels too (in order) after sorting by specified level\n",
      "    \n",
      "    Returns\n",
      "    -------\n",
      "    sorted_obj : DataFrame\n",
      "\n"
     ]
    }
   ],
   "source": [
    "help(df.sort_index)"
   ]
  },
  {
   "cell_type": "code",
   "execution_count": 104,
   "metadata": {},
   "outputs": [
    {
     "name": "stdout",
     "output_type": "stream",
     "text": [
      "<class 'pandas.core.series.Series'>\n",
      "0     0\n",
      "1     2\n",
      "2     4\n",
      "3     6\n",
      "4     8\n",
      "5    10\n",
      "6    12\n",
      "7    14\n",
      "8    16\n",
      "9    18\n",
      "dtype: int64\n",
      "             A   B   C   D   E   F   G   H\n",
      "2017-09-10  24 -13   6   5   3  -6  -1  21\n",
      "2017-09-11 -15   7  -9  17   7   2  -2 -23\n",
      "2017-09-12   1  -7  16  16  14   6 -11  19\n",
      "2017-09-13  20 -13  14  14 -22 -16  -7  -4\n",
      "2017-09-14 -26  12  18  12   6 -14 -10  11\n",
      "2017-09-15  -5   3  -9 -24 -23   5   7   0\n",
      "               A          B          C          D          E          F  \\\n",
      "count   6.000000   6.000000   6.000000   6.000000   6.000000   6.000000   \n",
      "mean   -0.166667  -1.833333   6.000000   6.666667  -2.500000  -3.833333   \n",
      "std    19.508118  10.666146  12.312595  15.616231  15.909117   9.641922   \n",
      "min   -26.000000 -13.000000  -9.000000 -24.000000 -23.000000 -16.000000   \n",
      "25%   -12.500000 -11.500000  -5.250000   6.750000 -15.750000 -12.000000   \n",
      "50%    -2.000000  -2.000000  10.000000  13.000000   4.500000  -2.000000   \n",
      "75%    15.250000   6.000000  15.500000  15.500000   6.750000   4.250000   \n",
      "max    24.000000  12.000000  18.000000  17.000000  14.000000   6.000000   \n",
      "\n",
      "               G          H  \n",
      "count   6.000000   6.000000  \n",
      "mean   -4.000000   4.000000  \n",
      "std     6.752777  16.565023  \n",
      "min   -11.000000 -23.000000  \n",
      "25%    -9.250000  -3.000000  \n",
      "50%    -4.500000   5.500000  \n",
      "75%    -1.250000  17.000000  \n",
      "max     7.000000  21.000000  \n",
      "A    int32\n",
      "B    int32\n",
      "C    int32\n",
      "D    int32\n",
      "E    int32\n",
      "F    int32\n",
      "G    int32\n",
      "H    int32\n",
      "dtype: object\n",
      "             A   B   C   D   E  F   G   H\n",
      "2017-09-10  24 -13   6   5   3 -6  -1  21\n",
      "2017-09-11 -15   7  -9  17   7  2  -2 -23\n",
      "2017-09-12   1  -7  16  16  14  6 -11  19\n",
      "             A   B   C   D   E   F   G   H\n",
      "2017-09-14 -26  12  18  12   6 -14 -10  11\n",
      "2017-09-15  -5   3  -9 -24 -23   5   7   0\n",
      "Index(['A', 'B', 'C', 'D', 'E', 'F', 'G', 'H'], dtype='object')\n",
      "DatetimeIndex(['2017-09-10', '2017-09-11', '2017-09-12', '2017-09-13',\n",
      "               '2017-09-14', '2017-09-15'],\n",
      "              dtype='datetime64[ns]', freq='D')\n",
      "[[ 24 -13   6   5   3  -6  -1  21]\n",
      " [-15   7  -9  17   7   2  -2 -23]\n",
      " [  1  -7  16  16  14   6 -11  19]\n",
      " [ 20 -13  14  14 -22 -16  -7  -4]\n",
      " [-26  12  18  12   6 -14 -10  11]\n",
      " [ -5   3  -9 -24 -23   5   7   0]]\n",
      "   2017-09-10  2017-09-11  2017-09-12  2017-09-13  2017-09-14  2017-09-15\n",
      "A          24         -15           1          20         -26          -5\n",
      "B         -13           7          -7         -13          12           3\n",
      "C           6          -9          16          14          18          -9\n",
      "D           5          17          16          14          12         -24\n",
      "E           3           7          14         -22           6         -23\n",
      "F          -6           2           6         -16         -14           5\n",
      "G          -1          -2         -11          -7         -10           7\n",
      "H          21         -23          19          -4          11           0\n",
      "             A   B   C   D   E   F   G   H\n",
      "2017-09-15  -5   3  -9 -24 -23   5   7   0\n",
      "2017-09-14 -26  12  18  12   6 -14 -10  11\n",
      "2017-09-13  20 -13  14  14 -22 -16  -7  -4\n",
      "2017-09-12   1  -7  16  16  14   6 -11  19\n",
      "2017-09-11 -15   7  -9  17   7   2  -2 -23\n",
      "2017-09-10  24 -13   6   5   3  -6  -1  21\n",
      "             H   G   F   E   D   C   B   A\n",
      "2017-09-10  21  -1  -6   3   5   6 -13  24\n",
      "2017-09-11 -23  -2   2   7  17  -9   7 -15\n",
      "2017-09-12  19 -11   6  14  16  16  -7   1\n",
      "2017-09-13  -4  -7 -16 -22  14  14 -13  20\n",
      "2017-09-14  11 -10 -14   6  12  18  12 -26\n",
      "2017-09-15   0   7   5 -23 -24  -9   3  -5\n",
      "2017-09-10    24\n",
      "2017-09-11   -15\n",
      "2017-09-12     1\n",
      "2017-09-13    20\n",
      "2017-09-14   -26\n",
      "2017-09-15    -5\n",
      "Freq: D, Name: A, dtype: int32\n",
      "             A   B   C   D   E  F   G   H\n",
      "2017-09-10  24 -13   6   5   3 -6  -1  21\n",
      "2017-09-11 -15   7  -9  17   7  2  -2 -23\n",
      "2017-09-12   1  -7  16  16  14  6 -11  19\n",
      "             A   B   C   D   E  F   G   H\n",
      "2017-09-10  24 -13   6   5   3 -6  -1  21\n",
      "2017-09-11 -15   7  -9  17   7  2  -2 -23\n",
      "2017-09-12   1  -7  16  16  14  6 -11  19\n",
      "A    24\n",
      "B   -13\n",
      "C     6\n",
      "D     5\n",
      "E     3\n",
      "F    -6\n",
      "G    -1\n",
      "H    21\n",
      "Name: 2017-09-10 00:00:00, dtype: int32\n",
      "             A   C\n",
      "2017-09-10  24   6\n",
      "2017-09-11 -15  -9\n",
      "2017-09-12   1  16\n",
      "24\n",
      "24\n",
      "24\n",
      "24\n",
      "             C   D\n",
      "2017-09-11  -9  17\n",
      "2017-09-12  16  16\n",
      "             A  B  C   D   E  F  G   H\n",
      "2017-09-11 -15  7 -9  17   7  2 -2 -23\n",
      "2017-09-15  -5  3 -9 -24 -23  5  7   0\n",
      "               A     B     C     D     E    F    G     H\n",
      "2017-09-10  24.0   NaN   6.0   5.0   3.0  NaN  NaN  21.0\n",
      "2017-09-11   NaN   7.0   NaN  17.0   7.0  2.0  NaN   NaN\n",
      "2017-09-12   1.0   NaN  16.0  16.0  14.0  6.0  NaN  19.0\n",
      "2017-09-13  20.0   NaN  14.0  14.0   NaN  NaN  NaN   NaN\n",
      "2017-09-14   NaN  12.0  18.0  12.0   6.0  NaN  NaN  11.0\n",
      "2017-09-15   NaN   3.0   NaN   NaN   NaN  5.0  7.0   NaN\n",
      "            A  B   C   D   E  F   G   H\n",
      "2017-09-12  1 -7  16  16  14  6 -11  19\n"
     ]
    },
    {
     "name": "stderr",
     "output_type": "stream",
     "text": [
      "C:\\Users\\Miao\\Anaconda3\\lib\\site-packages\\ipykernel_launcher.py:32: UserWarning: Boolean Series key will be reindexed to match DataFrame index.\n"
     ]
    },
    {
     "name": "stdout",
     "output_type": "stream",
     "text": [
      "               A    B    C    D    E    F    G    H\n",
      "2017-09-10  1111  126  126  126  126  126  126  126\n",
      "2017-09-11   -15    7   -9   17    7    2   -2  126\n",
      "2017-09-12     1   -7   16   16   14    6  -11  126\n",
      "2017-09-13    20  -13   14   14  -22  -16   -7  126\n",
      "2017-09-14   -26   12   18   12    6  -14  -10  126\n",
      "2017-09-15    -5    3   -9  -24  -23    5    7  126\n",
      "               A    B    C    D    E    F    G    H  I\n",
      "2017-09-10  1111  126  126  126  126  126  126  126  0\n",
      "2017-09-11   -15    7   -9   17    7    2   -2  126  1\n",
      "2017-09-12     1   -7   16   16   14    6  -11  126  2\n",
      "2017-09-13    20  -13   14   14  -22  -16   -7  126  3\n",
      "2017-09-14   -26   12   18   12    6  -14  -10  126  4\n",
      "2017-09-15    -5    3   -9  -24  -23    5    7  126  5\n",
      "               A    B    C    D    E    F    G    H  I\n",
      "2017-09-10  1111  126  126  126  126  126  126  126  0\n",
      "2017-09-11    15    7    9   17    7    2    2  126  1\n",
      "2017-09-12     1    7   16   16   14    6   11  126  2\n",
      "2017-09-13    20   13   14   14   22   16    7  126  3\n",
      "2017-09-14    26   12   18   12    6   14   10  126  4\n",
      "2017-09-15     5    3    9   24   23    5    7  126  5\n",
      "                 A      B      C      J\n",
      "2017-09-10  1111.0  126.0  126.0  100.0\n",
      "2017-09-11   -15.0    7.0   -9.0  100.0\n",
      "2017-09-12     1.0   -7.0   16.0    NaN\n",
      "2017-09-13    20.0  -13.0   14.0    NaN\n",
      "                 A      B      C      J\n",
      "2017-09-10  1111.0  126.0  126.0  100.0\n",
      "2017-09-11   -15.0    7.0   -9.0  100.0\n",
      "                 A      B      C      J\n",
      "2017-09-10  1111.0  126.0  126.0  100.0\n",
      "2017-09-11   -15.0    7.0   -9.0  100.0\n",
      "2017-09-12     1.0   -7.0   16.0  126.0\n",
      "2017-09-13    20.0  -13.0   14.0  126.0\n",
      "A    181.000000\n",
      "B     21.333333\n",
      "C     26.000000\n",
      "D     26.833333\n",
      "E     18.000000\n",
      "F     18.166667\n",
      "G     17.166667\n",
      "H    126.000000\n",
      "I      2.500000\n",
      "dtype: float64\n",
      "A    207816.400000\n",
      "B      2713.066667\n",
      "C      2551.600000\n",
      "D      2603.366667\n",
      "E      3045.200000\n",
      "F      2882.566667\n",
      "G      2886.166667\n",
      "H         0.000000\n",
      "I         3.500000\n",
      "dtype: float64\n",
      "2017-09-01     1.0\n",
      "2017-09-02     2.0\n",
      "2017-09-03     4.0\n",
      "2017-09-04     2.0\n",
      "2017-09-05    10.0\n",
      "2017-09-06     NaN\n",
      "2017-09-07    24.0\n",
      "2017-09-08    10.0\n",
      "Freq: D, dtype: float64\n",
      "2017-09-01     4.0\n",
      "2017-09-02     2.0\n",
      "2017-09-03    10.0\n",
      "2017-09-04     NaN\n",
      "2017-09-05    24.0\n",
      "2017-09-06    10.0\n",
      "2017-09-07     NaN\n",
      "2017-09-08     NaN\n",
      "Freq: D, dtype: float64\n",
      "2017-09-01     NaN\n",
      "2017-09-02     1.0\n",
      "2017-09-03     2.0\n",
      "2017-09-04    -2.0\n",
      "2017-09-05     8.0\n",
      "2017-09-06     NaN\n",
      "2017-09-07     NaN\n",
      "2017-09-08   -14.0\n",
      "Freq: D, dtype: float64\n",
      "10.0    2\n",
      "2.0     2\n",
      "24.0    1\n",
      "4.0     1\n",
      "1.0     1\n",
      "dtype: int64\n",
      "               A    B    C    D    E    F    G    H   I\n",
      "2017-09-10  1111  126  126  126  126  126  126  126   0\n",
      "2017-09-11  1096  133  117  143  133  128  124  252   1\n",
      "2017-09-12  1097  126  133  159  147  134  113  378   3\n",
      "2017-09-13  1117  113  147  173  125  118  106  504   6\n",
      "2017-09-14  1091  125  165  185  131  104   96  630  10\n",
      "2017-09-15  1086  128  156  161  108  109  103  756  15\n",
      "A    1137\n",
      "B     139\n",
      "C     135\n",
      "D     150\n",
      "E     149\n",
      "F     142\n",
      "G     137\n",
      "H       0\n",
      "I       5\n",
      "dtype: int64\n",
      "               A    B    C    D    E    F    G    H  I\n",
      "2017-09-10  1111  126  126  126  126  126  126  126  0\n",
      "2017-09-13    20  -13   14   14  -22  -16   -7  126  3\n",
      "2017-09-14   -26   12   18   12    6  -14  -10  126  4\n",
      "2017-09-15    -5    3   -9  -24  -23    5    7  126  5\n",
      "******************************************************************************************************************************\n",
      "   A  B_x   B_y    C\n",
      "0  a    1   3.0   AA\n",
      "1  b    2  23.0   BB\n",
      "2  c   10   NaN  NaN\n",
      "   A  B\n",
      "0  X  0\n",
      "1  Y  1\n",
      "2  X  2\n",
      "3  Y  3\n",
      "4  Z  4\n",
      "5  X  5\n",
      "   B\n",
      "A   \n",
      "X  7\n",
      "Y  4\n",
      "Z  4\n"
     ]
    }
   ],
   "source": [
    "import numpy as np\n",
    "import pandas as pd\n",
    "\n",
    "s = pd.Series([i*2 for i in range(10)])\n",
    "print(type(s))\n",
    "print(s)\n",
    "dates = pd.date_range(\"20170910\", periods=6)\n",
    "df = pd.DataFrame(np.random.randint(-26, 26, size=(6, 8)), index=dates, columns=list(\"ABCDEFGH\"))\n",
    "print(df)\n",
    "print(df.describe())\n",
    "print(df.dtypes)\n",
    "print(df.head(3)) # the first some lines\n",
    "print(df.tail(2)) # the last some lines\n",
    "print(df.columns)\n",
    "print(df.index)\n",
    "print(df.values)\n",
    "print(df.T) # transpose\n",
    "print(df.sort_index(axis=0, ascending=False))\n",
    "print(df.sort_index(axis=1, ascending=False))\n",
    "\n",
    "print(df[\"A\"])\n",
    "print(df[:3]) # get some rows by slices\n",
    "print(df[\"20170910\":\"20170912\"])\n",
    "print(df.loc[dates[0]]) # select a row whose index is dates[0]\n",
    "print(df.loc[\"20170910\":dates[2], (\"A\", \"C\")])\n",
    "print(df.at[dates[0], \"A\"]) # index only\n",
    "print(df.loc[dates[0], \"A\"]) # either index or slice\n",
    "print(df.iloc[0, 0])\n",
    "print(df.iat[0, 0])\n",
    "print(df.iloc[1:3, 2:4])\n",
    "\n",
    "print(df[df.B>0][df.C<0])\n",
    "print(df[df>0])\n",
    "print(df[df[\"A\"].isin((np.arange(20.0)))])\n",
    "\n",
    "df.at[dates[0]] = 126\n",
    "df.iat[0, 0] = 1111\n",
    "df.loc[:, \"H\"] = np.array([126]*len(df))\n",
    "print(df)\n",
    "s2 = pd.Series(range(6), index=pd.date_range(\"20170910\", periods=6))\n",
    "df[\"I\"] = s2\n",
    "print(df)\n",
    "\n",
    "df2 = df.copy()\n",
    "df2[df2<0]= -df2\n",
    "print(df2)\n",
    "\n",
    "df3 = df.reindex(index=dates[:4], columns=list(\"ABC\")+[\"J\"])\n",
    "df3.loc[dates[0]:dates[1], \"J\"] = 100\n",
    "print(df3)\n",
    "print(df3.dropna())\n",
    "print(df3.fillna(value=126))\n",
    "\n",
    "print(df.mean())\n",
    "print(df.var())\n",
    "\n",
    "s3 = pd.Series([1, 2, 4, 2, 10, np.nan, 24, 10], index=pd.date_range(\"20170901\", periods=8))\n",
    "print(s3)\n",
    "print(s3.shift(-2)) # shift position(up or dowm by negative or positive)\n",
    "print(s3.diff())\n",
    "print(s3.value_counts())\n",
    "\n",
    "print(df.apply(np.cumsum))\n",
    "print(df.apply(lambda x: x.max()-x.min()))\n",
    "\n",
    "pieces = df[:1], df[-3:]\n",
    "print(pd.concat(pieces))\n",
    "\n",
    "print(\"*\"*126)\n",
    "left = pd.DataFrame({\"A\": [\"a\", \"b\", \"c\"], \"B\": [1, 2, 10]})\n",
    "right = pd.DataFrame({\"A\":[\"a\", \"b\", \"d\"], \"B\": [3, 23, 0], \"C\": [\"AA\", \"BB\", \"CC\"]})\n",
    "print(pd.merge(left, right, on=\"A\", how=\"left\")) # inner outer right\n",
    "\n",
    "\n",
    "df4 = pd.DataFrame({\"A\": [\"X\", \"Y\", \"X\", \"Y\", \"Z\", \"X\"], \"B\": range(6)})\n",
    "print(df4)\n",
    "print(df4.groupby(\"A\").sum())\n",
    "\n",
    "# read file\n",
    "df5 = pd.read_csv(filename)\n",
    "print(df5)\n",
    "df6 = pd.read_excel(filename, \"Sheet1\")\n",
    "print(df6)\n",
    "df5.to_csv(path)\n",
    "df6.to_excel(path)"
   ]
  }
 ],
 "metadata": {
  "kernelspec": {
   "display_name": "Python 3",
   "language": "python",
   "name": "python3"
  },
  "language_info": {
   "codemirror_mode": {
    "name": "ipython",
    "version": 3
   },
   "file_extension": ".py",
   "mimetype": "text/x-python",
   "name": "python",
   "nbconvert_exporter": "python",
   "pygments_lexer": "ipython3",
   "version": "3.6.1"
  },
  "widgets": {
   "application/vnd.jupyter.widget-state+json": {
    "state": {},
    "version_major": 1,
    "version_minor": 0
   }
  }
 },
 "nbformat": 4,
 "nbformat_minor": 1
}
